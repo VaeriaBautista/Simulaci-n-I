{
  "nbformat": 4,
  "nbformat_minor": 0,
  "metadata": {
    "colab": {
      "provenance": [],
      "authorship_tag": "ABX9TyNXUcehtiwpL/b/L2akNtzF",
      "include_colab_link": true
    },
    "kernelspec": {
      "name": "python3",
      "display_name": "Python 3"
    },
    "language_info": {
      "name": "python"
    }
  },
  "cells": [
    {
      "cell_type": "markdown",
      "metadata": {
        "id": "view-in-github",
        "colab_type": "text"
      },
      "source": [
        "<a href=\"https://colab.research.google.com/github/VaeriaBautista/Simulaci-n-I/blob/main/Tablero_CIrcular.ipynb\" target=\"_parent\"><img src=\"https://colab.research.google.com/assets/colab-badge.svg\" alt=\"Open In Colab\"/></a>"
      ]
    },
    {
      "cell_type": "code",
      "execution_count": 75,
      "metadata": {
        "id": "KloadBlfigaL"
      },
      "outputs": [],
      "source": [
        "#Importamos las sig librerias:\n",
        "import numpy as np #Para el cálculo numérico\n",
        "import matplotlib.pyplot as plt  #Para la creación de gráficos y visualizaciones de datos\n",
        "import random #permite generar números enteros, números de coma flotante, elegir elementos al azar de una secuencia\n",
        "from fractions import Fraction #Para crear objetos a partir de enteros, números de punto flotante, decimales y cadenas"
      ]
    },
    {
      "cell_type": "code",
      "source": [
        "\"\"\"\n",
        "Existe un tablero con cuatro sectores,  el 1er cuadrante es de color naranja, el segundo cuadrante es rojo, el tercer cuadrante es verde,\n",
        "y el cuarto cuadrante es azul; luego, supongamos que tenemos este tablero con 4 sectores y lanzamos dos monedas y avanzamos ,\n",
        "en sentido que giran las manesillas del reloj, avanzamos el numero de caras que salgan.\n",
        "\n",
        "Si repetimos el procedimiento muchas veces, ¿son todos los sectores igual de probables , cuando pase mucho tiempo?\n",
        "Los posibles estados en las monedas son : CC,CX,XC,XX , donde X=cruz y C=cara\n",
        "Por teoria sabemos que las probabilidades de cada estado de las monedas:\n",
        "P(CC)=1/4, P(CX)=1/4 , P(XC) =1/4, P(XX)=1/4\n",
        "\n",
        "Luego de manera analitica resolvemos el problema:\n",
        "X_n= A la probabilidad de estar en el sector NARANJA traz n lanzamientos\n",
        "Y_n= A la probabilidad de estar en el sector AZUL traz n lanzamientos\n",
        "Z_n= A la probabilidad de estar en el sector VERDE traz n lanzamientos\n",
        "T_n= A la probabilidad de estar en el sector ROJO traz n lanzamientos\n",
        "\n",
        "Despues se calcula X_1 como la propabilidad de naranja CON EL TEOREMA DE PROBABILIDAD TOTAL:\n",
        "X_1= P(NARANJA)= p(NARANJA|NARANJA)*P(NARANJA)+p(NARANJA|AZUL)*P(AZUL)+p(NARANJA|VERDE)*P(VERDE)+p(NARANJA|ROJO)*P(ROJO)\n",
        "X_1= P(NARANJA)= 1/4X_0+0Y_0+1/4Z_0+2/4T_0\n",
        "\n",
        "Despues se calcula Y_1 como la propabilidad de azul CON EL TEOREMA DE PROBABILIDAD TOTAL:\n",
        "Y_1= P(AZUL)= p(AZUL|NARANJA)*P(NARANJA)+p(AZUL|AZUL)*P(AZUL)+p(AZUL|VERDE)*P(VERDE)+p(AZUL|ROJO)*P(ROJO)\n",
        "Y_1= P(AZUL)= (2/4X_0)+(1/4Y_0)+(0Z_0)+(1/4T_0)\n",
        "\n",
        "Despues se calcula Z_1 como la propabilidad de verde CON EL TEOREMA DE PROBABILIDAD TOTAL:\n",
        "Z_1= P(VERDE)= P(VERDE|NARANJA)*P(NARANJA)+p(VERDE|AZUL)*P(AZUL)+p(VERDE|VERDE)*P(VERDE)+p(VERDE|ROJO)*P(ROJO)\n",
        "Z_1= P(VERDE)= (1/4X_0)+(2/4Y_0)+(1/4Z_0)+(0T_0)\n",
        "\n",
        "Despues se calcula T_1 como la propabilidad de rojo CON EL TEOREMA DE PROBABILIDAD TOTAL:\n",
        "T_1= P(ROJO)= P(ROJO|NARANJA)*P(NARANJA)+p(ROJO|AZUL)*P(AZUL)+p(ROJO|VERDE)*P(VERDE)+p(ROJO|ROJO)*P(ROJO\n",
        "T_1= P(ROJO)= (0X_0)+(1/4Y_0)+(2/4Z_0)+(1/4T_0)\n",
        "\n",
        " PARA N=1\n",
        "       X_1= [1/4X_0, 0Y_0, 1/4Z_0, 2/4T_0],\n",
        "       Y_1= [2/4X_0, 1/4Y_0, 0Z_0, 1/4T_0],\n",
        "       Z_1= [1/4X_0, 2/4Y_0, 1/4Z_0, 0T_0],\n",
        "       T_1= [0X_0, 1/4Y_0, 2/4Z_0, 1/4T_0]\n",
        "\n",
        "  EN GENERAL: [X_n]     [1/4, 0, 1/4, 2/4]* [X_n-1]\n",
        "              [Y_n] =   [2/4, 1/4, 0, 1/4]* [Y_n-1]\n",
        "              [Z_n]     [1/4, 2/4, 1/4, 0]* [Z_n-1]\n",
        "              [T_n]     [0, 1/4, 2/4, 1/4]* [T_n-1]\n",
        "\n",
        " Simplificamos y tenemos que:\n",
        " X_n= A*X_n-1= A^2*X_n-2= ......= A^n* X_n-n\n",
        "\n",
        "Para resolver el problema se debe calcular A^n donde A es una matriz de orden 4\n",
        "donde la matriz A={(1/4 , 0, 1/4, 2/4), (2/4, 1/4, 0, 1/4),( 1/4, 2/4,1/4 , 0),(0, 1/4, 2/4, 1/4)\n",
        "\"\"\""
      ],
      "metadata": {
        "colab": {
          "base_uri": "https://localhost:8080/",
          "height": 140
        },
        "collapsed": true,
        "id": "OlGQJFLpjmDS",
        "outputId": "8b772720-d23e-4610-8d87-874ffb113f28"
      },
      "execution_count": 76,
      "outputs": [
        {
          "output_type": "execute_result",
          "data": {
            "text/plain": [
              "'\\nExiste un tablero con cuatro sectores,  el 1er cuadrante es de color naranja, el segundo cuadrante es rojo, el tercer cuadrante es verde,\\ny el cuarto cuadrante es azul; luego, supongamos que tenemos este tablero con 4 sectores y lanzamos dos monedas y avanzamos , \\nen sentido que giran las manesillas del reloj, avanzamos el numero de caras que salgan. \\n\\nSi repetimos el procedimiento muchas veces, ¿son todos los sectores igual de probables , cuando pase mucho tiempo?\\nLos posibles estados en las monedas son : CC,CX,XC,XX , donde X=cruz y C=cara\\nPor teoria sabemos que las probabilidades de cada estado de las monedas: \\nP(CC)=1/4, P(CX)=1/4 , P(XC) =1/4, P(XX)=1/4 \\n\\nLuego de manera analitica resolvemos el problema:\\nX_n= A la probabilidad de estar en el sector NARANJA traz n lanzamientos\\nY_n= A la probabilidad de estar en el sector AZUL traz n lanzamientos\\nZ_n= A la probabilidad de estar en el sector VERDE traz n lanzamientos\\nT_n= A la probabilidad de estar en el sector ROJO traz n lanzamientos\\n\\nDespues se calcula X_1 como la propabilidad de naranja CON EL TEOREMA DE PROBABILIDAD TOTAL:\\nX_1= P(NARANJA)= p(NARANJA|NARANJA)*P(NARANJA)+p(NARANJA|AZUL)*P(AZUL)+p(NARANJA|VERDE)*P(VERDE)+p(NARANJA|ROJO)*P(ROJO)\\nX_1= P(NARANJA)= 1/4X_0+0Y_0+1/4Z_0+2/4T_0\\n\\nDespues se calcula Y_1 como la propabilidad de azul CON EL TEOREMA DE PROBABILIDAD TOTAL:\\nY_1= P(AZUL)= p(AZUL|NARANJA)*P(NARANJA)+p(AZUL|AZUL)*P(AZUL)+p(AZUL|VERDE)*P(VERDE)+p(AZUL|ROJO)*P(ROJO)\\nY_1= P(AZUL)= (2/4X_0)+(1/4Y_0)+(0Z_0)+(1/4T_0)\\n\\nDespues se calcula Z_1 como la propabilidad de verde CON EL TEOREMA DE PROBABILIDAD TOTAL:\\nZ_1= P(VERDE)= P(VERDE|NARANJA)*P(NARANJA)+p(VERDE|AZUL)*P(AZUL)+p(VERDE|VERDE)*P(VERDE)+p(VERDE|ROJO)*P(ROJO)\\nZ_1= P(VERDE)= (1/4X_0)+(2/4Y_0)+(1/4Z_0)+(0T_0)\\n\\nDespues se calcula T_1 como la propabilidad de rojo CON EL TEOREMA DE PROBABILIDAD TOTAL:\\nT_1= P(ROJO)= P(ROJO|NARANJA)*P(NARANJA)+p(ROJO|AZUL)*P(AZUL)+p(ROJO|VERDE)*P(VERDE)+p(ROJO|ROJO)*P(ROJO\\nT_1= P(ROJO)= (0X_0)+(1/4Y_0)+(2/4Z_0)+(1/4T_0)\\n\\n PARA N=1  \\n       X_1= [1/4X_0, 0Y_0, 1/4Z_0, 2/4T_0],\\n       Y_1= [2/4X_0, 1/4Y_0, 0Z_0, 1/4T_0],\\n       Z_1= [1/4X_0, 2/4Y_0, 1/4Z_0, 0T_0],\\n       T_1= [0X_0, 1/4Y_0, 2/4Z_0, 1/4T_0]\\n\\n  EN GENERAL: [X_n]     [1/4, 0, 1/4, 2/4]* [X_n-1]\\n              [Y_n] =   [2/4, 1/4, 0, 1/4]* [Y_n-1]\\n              [Z_n]     [1/4, 2/4, 1/4, 0]* [Z_n-1]\\n              [T_n]     [0, 1/4, 2/4, 1/4]* [T_n-1]\\n\\n Simplificamos y tenemos que:\\n X_n= A*X_n-1= A^2*X_n-2= ......= A^n* X_n-n             \\n\\nPara resolver el problema se debe calcular A^n donde A es una matriz de orden 4\\ndonde la matriz A={(1/4 , 0, 1/4, 2/4), (2/4, 1/4, 0, 1/4),( 1/4, 2/4,1/4 , 0),(0, 1/4, 2/4, 1/4)\\n'"
            ],
            "application/vnd.google.colaboratory.intrinsic+json": {
              "type": "string"
            }
          },
          "metadata": {},
          "execution_count": 76
        }
      ]
    },
    {
      "cell_type": "code",
      "source": [
        "class SimulacionTablero:\n",
        "    def __init__(self):\n",
        "        # Definir los sectores del tablero\n",
        "        self.sectores = {\n",
        "            0: \"Naranja (Cuadrante 1)\",\n",
        "            1: \"Rojo (Cuadrante 2)\",\n",
        "            2: \"Verde (Cuadrante 3)\",\n",
        "            3: \"Azul (Cuadrante 4)\"\n",
        "        }\n",
        "\n",
        "        # Colores para visualización\n",
        "        self.colores = ['orange', 'red', 'green', 'blue']\n",
        "\n",
        "        # Estados de las monedas y sus probabilidades\n",
        "        #C=CARA, X= CRUZ\n",
        "\n",
        "        self.estados_monedas = ['CC', 'CX', 'XC', 'XX']\n",
        "        self.prob_monedas = [1/4, 1/4, 1/4, 1/4]\n",
        "\n",
        "        # Número de caras por estado\n",
        "        self.caras_por_estado = {'CC': 2, 'CX': 1, 'XC': 1, 'XX': 0}\n",
        "\n",
        "        # Matriz de transición A\n",
        "        self.A = np.array([\n",
        "            [1/4, 0, 1/4, 2/4],\n",
        "            [2/4, 1/4, 0, 1/4],\n",
        "            [1/4, 2/4, 1/4, 0],\n",
        "            [0, 1/4, 2/4, 1/4]\n",
        "        ])"
      ],
      "metadata": {
        "id": "-0fbfpG5xdrw"
      },
      "execution_count": 77,
      "outputs": []
    },
    {
      "cell_type": "code",
      "source": [
        "def lanzar_monedas(self):\n",
        "    #Simula el lanzamiento de dos monedas y retorna el estado\n",
        "    estados = ['CC', 'CX', 'XC', 'XX']\n",
        "    return random.choices(estados, weights=self.prob_monedas)[0]\n",
        "\n",
        "def simular_movimiento(self, posicion_actual, n_simulaciones=1):\n",
        "    #Simula n movimientos desde una posición actual\n",
        "    posiciones = []\n",
        "    pos = posicion_actual\n",
        "\n",
        "    for _ in range(n_simulaciones):\n",
        "        estado = self.lanzar_monedas()\n",
        "        caras = self.caras_por_estado[estado]\n",
        "        # Avanzar en sentido horario\n",
        "        pos = (pos + caras) % 4\n",
        "        posiciones.append(pos)\n",
        "\n",
        "    return posiciones\n",
        "\n",
        "# Agregar métodos a la clase\n",
        "SimulacionTablero.lanzar_monedas = lanzar_monedas\n",
        "SimulacionTablero.simular_movimiento = simular_movimiento\n"
      ],
      "metadata": {
        "id": "e5q8ORviu4oR"
      },
      "execution_count": 78,
      "outputs": []
    },
    {
      "cell_type": "code",
      "source": [
        " def simulacion_monte_carlo(self, n_simulaciones=10000, posicion_inicial=0):\n",
        "        \"\"\"Ejecuta simulación Monte Carlo\"\"\"\n",
        "        print(f\"\\n=== SIMULACIÓN MONTE CARLO ===\")\n",
        "        print(f\"Número de simulaciones: {n_simulaciones}\")\n",
        "        print(f\"Posición inicial: {self.sectores[posicion_inicial]}\")\n",
        "\n",
        "        posiciones = self.simular_movimiento(posicion_inicial, n_simulaciones)\n",
        "\n",
        "        # Contar frecuencias\n",
        "        frecuencias = [0, 0, 0, 0]\n",
        "        for pos in posiciones:\n",
        "            frecuencias[pos] += 1\n",
        "\n",
        "        # Calcular probabilidades empíricas\n",
        "        prob_empiricas = [f / n_simulaciones for f in frecuencias]\n",
        "\n",
        "        print(\"\\nResultados de la simulación:\")\n",
        "        for i in range(4):\n",
        "            print(f\"{self.sectores[i]}: {frecuencias[i]} veces ({prob_empiricas[i]:.4f})\")\n",
        "\n",
        "        return prob_empiricas, frecuencias\n",
        "\n",
        "# Agregar método a la clase\n",
        "SimulacionTablero.simulacion_monte_carlo = simulacion_monte_carlo\n"
      ],
      "metadata": {
        "id": "wRioqY3Pu7hc"
      },
      "execution_count": 79,
      "outputs": []
    },
    {
      "cell_type": "code",
      "source": [
        " def calcular_probabilidades_teoricas(self, n_pasos=100):\n",
        "        #Calcula las probabilidades teóricas usando A^n\n",
        "        print(f\"\\n=== CÁLCULO TEÓRICO ===\")\n",
        "        print(\"Matriz de transición A:\")\n",
        "        print(self.A)\n",
        "\n",
        "        # Calcular A^n para n grande\n",
        "        A_n = np.linalg.matrix_power(self.A, n_pasos)\n",
        "        print(f\"\\nMatriz A^{n_pasos}:\")\n",
        "        print(A_n)\n",
        "\n",
        "        # La distribución estacionaria es cualquier fila de A^n cuando n es grande\n",
        "        prob_estacionaria = A_n[0]  # Tomamos la primera fila\n",
        "\n",
        "        print(f\"\\nProbabilidades teóricas (estado estacionario):\")\n",
        "        for i in range(4):\n",
        "            print(f\"{self.sectores[i]}: {prob_estacionaria[i]:.6f}\")\n",
        "\n",
        "        return prob_estacionaria\n",
        "\n",
        "# Agregar método a la clase\n",
        "SimulacionTablero.calcular_probabilidades_teoricas = calcular_probabilidades_teoricas\n"
      ],
      "metadata": {
        "id": "2xzVWuDOvGj8"
      },
      "execution_count": 80,
      "outputs": []
    },
    {
      "cell_type": "code",
      "source": [
        " def calcular_distribucion_estacionaria_exacta(self):\n",
        "        #Calcula la distribución estacionaria resolviendo πA = π\n",
        "        #Ocupamos cadenas de Markov para esta parte\n",
        "        print(f\"\\n=== DISTRIBUCIÓN ESTACIONARIA EXACTA ===\")\n",
        "\n",
        "        # Resolver el sistema πA = π, donde π es la distribución estacionaria\n",
        "        # Esto es equivalente a resolver (A^T - I)π = 0 con la restricción Σπᵢ = 1\n",
        "\n",
        "        # Crear el sistema de ecuaciones\n",
        "        AT_minus_I = self.A.T - np.eye(4)\n",
        "\n",
        "        # Reemplazar una ecuación por la restricción de suma = 1\n",
        "        AT_minus_I[-1] = np.ones(4)\n",
        "        b = np.zeros(4)\n",
        "        b[-1] = 1\n",
        "\n",
        "        # Resolver el sistema\n",
        "        pi = np.linalg.solve(AT_minus_I, b)\n",
        "\n",
        "        print(\"Distribución estacionaria exacta:\")\n",
        "        for i in range(4):\n",
        "            # Convertir a fracción para mejor visualización\n",
        "            frac = Fraction(pi[i]).limit_denominator(1000)\n",
        "            print(f\"{self.sectores[i]}: {pi[i]:.6f} ≈ {frac}\")\n",
        "\n",
        "        return pi\n",
        "\n",
        "# Agregar método a la clase\n",
        "SimulacionTablero.calcular_distribucion_estacionaria_exacta = calcular_distribucion_estacionaria_exacta\n"
      ],
      "metadata": {
        "id": "GC9I9bFjvOqR"
      },
      "execution_count": 81,
      "outputs": []
    },
    {
      "cell_type": "code",
      "source": [
        " def visualizar_resultados(self, prob_empiricas, prob_teoricas):\n",
        "        \"\"\"Crea gráficos comparativos\"\"\"\n",
        "        fig, (ax1, ax2) = plt.subplots(1, 2, figsize=(15, 6))\n",
        "\n",
        "        sectores_nombres = [f\"Sector {i+1}\" for i in range(4)]\n",
        "\n",
        "        # Gráfico de barras para probabilidades empíricas\n",
        "        bars1 = ax1.bar(sectores_nombres, prob_empiricas, color=self.colores, alpha=0.7)\n",
        "        ax1.set_title('Probabilidades Empíricas (Simulación)')\n",
        "        ax1.set_ylabel('Probabilidad')\n",
        "        ax1.set_ylim(0, max(max(prob_empiricas), max(prob_teoricas)) * 1.1)\n",
        "\n",
        "        # Agregar valores en las barras\n",
        "        for bar, prob in zip(bars1, prob_empiricas):\n",
        "            ax1.text(bar.get_x() + bar.get_width()/2, bar.get_height() + 0.01,\n",
        "                    f'{prob:.3f}', ha='center', va='bottom')\n",
        "\n",
        "        # Gráfico de barras para probabilidades teóricas\n",
        "        bars2 = ax2.bar(sectores_nombres, prob_teoricas, color=self.colores, alpha=0.7)\n",
        "        ax2.set_title('Probabilidades Teóricas (Estado Estacionario)')\n",
        "        ax2.set_ylabel('Probabilidad')\n",
        "        ax2.set_ylim(0, max(max(prob_empiricas), max(prob_teoricas)) * 1.1)\n",
        "\n",
        "        # Agregar valores en las barras\n",
        "        for bar, prob in zip(bars2, prob_teoricas):\n",
        "            ax2.text(bar.get_x() + bar.get_width()/2, bar.get_height() + 0.01,\n",
        "                    f'{prob:.3f}', ha='center', va='bottom')\n",
        "\n",
        "        plt.tight_layout()\n",
        "        plt.show()\n",
        "\n",
        "# Agregar método a la clase\n",
        "SimulacionTablero.visualizar_resultados = visualizar_resultados\n"
      ],
      "metadata": {
        "id": "esePERzFzb1a"
      },
      "execution_count": 82,
      "outputs": []
    },
    {
      "cell_type": "code",
      "source": [
        " def ejecutar_analisis_completo(self):\n",
        "        \"\"\"Ejecuta el análisis completo del problema\"\"\"\n",
        "        print(\"=\"*60)\n",
        "        print(\"SIMULACIÓN DE TABLERO CON CUATRO SECTORES Y DOS MONEDAS\")\n",
        "        print(\"=\"*60)\n",
        "\n",
        "        # 1. Simulación Monte Carlo\n",
        "        prob_empiricas, frecuencias = self.simulacion_monte_carlo(n_simulaciones=100000)\n",
        "\n",
        "        # 2. Cálculo teórico\n",
        "        prob_teoricas = self.calcular_probabilidades_teoricas(n_pasos=100)\n",
        "\n",
        "        # 3. Distribución estacionaria exacta\n",
        "        prob_exactas = self.calcular_distribucion_estacionaria_exacta()\n",
        "\n",
        "        # 4. Comparación de resultados\n",
        "        print(f\"\\n=== COMPARACIÓN DE RESULTADOS ===\")\n",
        "        print(f\"{'Sector':<20} {'Empírica':<12} {'Teórica':<12} {'Exacta':<12} {'Diferencia':<12}\")\n",
        "        print(\"-\" * 70)\n",
        "        for i in range(4):\n",
        "            diff = abs(prob_empiricas[i] - prob_exactas[i])\n",
        "            print(f\"{self.sectores[i]:<20} {prob_empiricas[i]:<12.6f} {prob_teoricas[i]:<12.6f} {prob_exactas[i]:<12.6f} {diff:<12.6f}\")\n",
        "\n",
        "        # 5. Respuesta a la pregunta principal\n",
        "        print(f\"\\n=== RESPUESTA A LA PREGUNTA ===\")\n",
        "        print(\"¿Son todos los sectores igual de probables cuando pase mucho tiempo?\")\n",
        "\n",
        "        # Verificar si las probabilidades son iguales (con tolerancia)\n",
        "        tolerancia = 0.001\n",
        "        prob_iguales = all(abs(p - 0.25) < tolerancia for p in prob_exactas)\n",
        "\n",
        "        if prob_iguales:\n",
        "            print(\"SÍ: Todos los sectores tienen la misma probabilidad (≈ 0.25)\")\n",
        "        else:\n",
        "            print(\"NO: Los sectores NO tienen la misma probabilidad\")\n",
        "            print(\"Las probabilidades en el estado estacionario son:\")\n",
        "            for i, prob in enumerate(prob_exactas):\n",
        "                print(f\"  - {self.sectores[i]}: {prob:.6f}\")\n",
        "\n",
        "        # 6. Visualización\n",
        "        self.visualizar_resultados(prob_empiricas, prob_exactas)\n",
        "\n",
        "# Agregar método a la clase\n",
        "SimulacionTablero.ejecutar_analisis_completo = ejecutar_analisis_completo\n"
      ],
      "metadata": {
        "id": "_M6MCcQ_zdZz"
      },
      "execution_count": 83,
      "outputs": []
    },
    {
      "cell_type": "code",
      "source": [
        "# Crear instancia y ejecutar análisis completo\n",
        "print(\"\\n INICIANDO SIMULACIÓN...\")\n",
        "print(\"=\"*60)\n",
        "\n",
        "simulacion = SimulacionTablero()\n",
        "simulacion.ejecutar_analisis_completo()"
      ],
      "metadata": {
        "colab": {
          "base_uri": "https://localhost:8080/",
          "height": 1000
        },
        "id": "HHfZM0pIzlHk",
        "outputId": "f2d5c9a5-66ad-4d07-b190-53db14c7ad97"
      },
      "execution_count": 84,
      "outputs": [
        {
          "output_type": "stream",
          "name": "stdout",
          "text": [
            "\n",
            " INICIANDO SIMULACIÓN...\n",
            "============================================================\n",
            "============================================================\n",
            "SIMULACIÓN DE TABLERO CON CUATRO SECTORES Y DOS MONEDAS\n",
            "============================================================\n",
            "\n",
            "=== SIMULACIÓN MONTE CARLO ===\n",
            "Número de simulaciones: 100000\n",
            "Posición inicial: Naranja (Cuadrante 1)\n",
            "\n",
            "Resultados de la simulación:\n",
            "Naranja (Cuadrante 1): 25048 veces (0.2505)\n",
            "Rojo (Cuadrante 2): 24945 veces (0.2495)\n",
            "Verde (Cuadrante 3): 25101 veces (0.2510)\n",
            "Azul (Cuadrante 4): 24906 veces (0.2491)\n",
            "\n",
            "=== CÁLCULO TEÓRICO ===\n",
            "Matriz de transición A:\n",
            "[[0.25 0.   0.25 0.5 ]\n",
            " [0.5  0.25 0.   0.25]\n",
            " [0.25 0.5  0.25 0.  ]\n",
            " [0.   0.25 0.5  0.25]]\n",
            "\n",
            "Matriz A^100:\n",
            "[[0.25 0.25 0.25 0.25]\n",
            " [0.25 0.25 0.25 0.25]\n",
            " [0.25 0.25 0.25 0.25]\n",
            " [0.25 0.25 0.25 0.25]]\n",
            "\n",
            "Probabilidades teóricas (estado estacionario):\n",
            "Naranja (Cuadrante 1): 0.250000\n",
            "Rojo (Cuadrante 2): 0.250000\n",
            "Verde (Cuadrante 3): 0.250000\n",
            "Azul (Cuadrante 4): 0.250000\n",
            "\n",
            "=== DISTRIBUCIÓN ESTACIONARIA EXACTA ===\n",
            "Distribución estacionaria exacta:\n",
            "Naranja (Cuadrante 1): 0.250000 ≈ 1/4\n",
            "Rojo (Cuadrante 2): 0.250000 ≈ 1/4\n",
            "Verde (Cuadrante 3): 0.250000 ≈ 1/4\n",
            "Azul (Cuadrante 4): 0.250000 ≈ 1/4\n",
            "\n",
            "=== COMPARACIÓN DE RESULTADOS ===\n",
            "Sector               Empírica     Teórica      Exacta       Diferencia  \n",
            "----------------------------------------------------------------------\n",
            "Naranja (Cuadrante 1) 0.250480     0.250000     0.250000     0.000480    \n",
            "Rojo (Cuadrante 2)   0.249450     0.250000     0.250000     0.000550    \n",
            "Verde (Cuadrante 3)  0.251010     0.250000     0.250000     0.001010    \n",
            "Azul (Cuadrante 4)   0.249060     0.250000     0.250000     0.000940    \n",
            "\n",
            "=== RESPUESTA A LA PREGUNTA ===\n",
            "¿Son todos los sectores igual de probables cuando pase mucho tiempo?\n",
            "SÍ: Todos los sectores tienen la misma probabilidad (≈ 0.25)\n"
          ]
        },
        {
          "output_type": "display_data",
          "data": {
            "text/plain": [
              "<Figure size 1500x600 with 2 Axes>"
            ],
            "image/png": "[encoded data removed]"
          },
          "metadata": {}
        }
      ]
    }
  ]
}