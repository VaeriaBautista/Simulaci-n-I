{
  "nbformat": 4,
  "nbformat_minor": 0,
  "metadata": {
    "colab": {
      "provenance": [],
      "authorship_tag": "ABX9TyPTpZ3iPI8Hawx+zkY58Fg/",
      "include_colab_link": true
    },
    "kernelspec": {
      "name": "python3",
      "display_name": "Python 3"
    },
    "language_info": {
      "name": "python"
    }
  },
  "cells": [
    {
      "cell_type": "markdown",
      "metadata": {
        "id": "view-in-github",
        "colab_type": "text"
      },
      "source": [
        "<a href=\"https://colab.research.google.com/github/VaeriaBautista/Simulaci-n-I/blob/main/jumpingipynb.ipynb\" target=\"_parent\"><img src=\"https://colab.research.google.com/assets/colab-badge.svg\" alt=\"Open In Colab\"/></a>"
      ]
    },
    {
      "cell_type": "code",
      "execution_count": 1,
      "metadata": {
        "colab": {
          "base_uri": "https://localhost:8080/"
        },
        "id": "m2qYATQopjyV",
        "outputId": "bdba545c-a065-449d-ee3e-1768577c8b44"
      },
      "outputs": [
        {
          "output_type": "stream",
          "name": "stdout",
          "text": [
            "Mejor punto encontrado: [-1.00222182  1.50356351]\n",
            "Valor minimo encontrado: -1.249993263374685\n"
          ]
        }
      ],
      "source": [
        "import numpy as np\n",
        "\n",
        "#============== metodo =================\n",
        "\n",
        "def method(func, bounds, max_evals):\n",
        "\tn = len(bounds)\n",
        "\teval_count = 0\n",
        "\n",
        "\t#inicializar x aleatorio dentro de los limites\n",
        "\tx = np.array([np.random.uniform(l, u) for l, u in bounds])\n",
        "\tmejor_x = x.copy()\n",
        "\tmejor_val = func(x)\n",
        "\teval_count += 1\n",
        "\n",
        "\twhile eval_count < max_evals:\n",
        "\t\t#direccion aleatoria\n",
        "\t\tdireccion = np.random.randn(n)\n",
        "\t\tdireccion /= np.linalg.norm(direccion)\n",
        "\n",
        "\t\t#escalar aleatorio entre -1 y 1\n",
        "\t\tr = np.random.uniform(-1, 1)\n",
        "\n",
        "\t\t#nuevo punto\n",
        "\t\tx_nuevo = x + r * direccion\n",
        "\n",
        "\t\t#aplicar limites\n",
        "\t\tfor i in range(n):\n",
        "\t\t\tx_nuevo[i] = np.clip(x_nuevo[i], bounds[i][0], bounds[i][1])\n",
        "\n",
        "\t\t\t#evaluar funcion\n",
        "\t\t\tf_nueva = func(x_nuevo)\n",
        "\t\t\teval_count += 1\n",
        "\n",
        "\t\t\t#aceptar si mejora\n",
        "\t\t\tif f_nueva < mejor_val:\n",
        "\t\t\t\tx = x_nuevo\n",
        "\t\t\t\tmejor_x = x_nuevo\n",
        "\t\t\t\tmejor_val = f_nueva\n",
        "\treturn mejor_x, mejor_val\n",
        "\n",
        "#=================== Datos del ejercicio =====================\n",
        "\n",
        "#funcion a minimizar\n",
        "funcion_objetivo = lambda x: x[0] - x[1] + 2*x[0]**2 + 2*x[0]*x[1] + x[1]**2\n",
        "\n",
        "#rango de cada variable\n",
        "rangos = [(-10, 10), (-10, 10)]\n",
        "\n",
        "#evaluaciones maximas\n",
        "max_evaluaciones = 10000\n",
        "\n",
        "#Ejecutamos el metodo\n",
        "solucion, valor_minimo = method(funcion_objetivo, rangos, max_evaluaciones)\n",
        "print(\"Mejor punto encontrado:\", solucion)\n",
        "print(\"Valor minimo encontrado:\", valor_minimo)"
      ]
    }
  ]
}