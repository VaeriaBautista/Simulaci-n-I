{
  "nbformat": 4,
  "nbformat_minor": 0,
  "metadata": {
    "colab": {
      "provenance": [],
      "authorship_tag": "ABX9TyMUgdU1d8/XwMpulvLoe7ZJ",
      "include_colab_link": true
    },
    "kernelspec": {
      "name": "python3",
      "display_name": "Python 3"
    },
    "language_info": {
      "name": "python"
    }
  },
  "cells": [
    {
      "cell_type": "markdown",
      "metadata": {
        "id": "view-in-github",
        "colab_type": "text"
      },
      "source": [
        "<a href=\"https://colab.research.google.com/github/VaeriaBautista/Simulaci-n-I/blob/main/Fletcher%E2%80%93Reeves.ipynb\" target=\"_parent\"><img src=\"https://colab.research.google.com/assets/colab-badge.svg\" alt=\"Open In Colab\"/></a>"
      ]
    },
    {
      "cell_type": "code",
      "execution_count": null,
      "metadata": {
        "id": "FOQfibh-tK8G"
      },
      "outputs": [],
      "source": [
        "import numpy as np\n",
        "import matplotlib.pyplot as plt\n",
        "from sympy import symbols, expand, simplify\n",
        "\n",
        "\n",
        "def fletcher_reeves(f, grad_f, x0, max_iter, tol=1e-4):\n",
        "    x = x0\n",
        "    g = grad_f(x)\n",
        "    d = -g\n",
        "    k = 0\n",
        "\n",
        "    while np.linalg.norm(g) > tol and k < max_iter:\n",
        "        alpha = backtracking_line_search(f, grad_f, x, d)\n",
        "        x = x + alpha * d\n",
        "        g_new = grad_f(x)\n",
        "\n",
        "        beta = np.dot(g_new, g_new) / np.dot(g, g)\n",
        "        d = -g_new + beta * d\n",
        "\n",
        "        g = g_new\n",
        "        k += 1\n",
        "\n",
        "    return x\n",
        "\n",
        "def backtracking_line_search(f, grad_f, x, d, alpha=1.0, rho=0.9, c=1e-4):\n",
        "    while f(x + alpha * d) > f(x) + c * alpha * np.dot(grad_f(x), d):\n",
        "        alpha *= rho\n",
        "    return alpha\n",
        "\n",
        "\n",
        "# Ingreso de la función por el usuario\n",
        "func_input = input(\"Ingresa la función f(x) en términos de x :\\n\")\n",
        "grad_input = input(\"Ingresa la función grad_f(x) como un array :\\n\")\n",
        "\n",
        "# Ingreso del punto inicial\n",
        "x0_input = input(\"Ingresa el punto inicial x0 como una lista :\\n\")\n",
        "\n",
        "# Definir funciones usando eval (precaución con esto)\n",
        "def f(x):\n",
        "    return eval(func_input)\n",
        "\n",
        "def grad_f(x):\n",
        "    return np.array(eval(grad_input))\n",
        "\n",
        "# Convertir el punto inicial\n",
        "x0 = np.array(eval(x0_input))\n",
        "max_iter= int(input(\"Ingrese el numero de iteraciones:\"))\n",
        "# Ejecutar el método de Fletcher-Reeves\n",
        "x_opt = fletcher_reeves(f, grad_f, x0, max_iter)\n",
        "print(\"Punto óptimo encontrado:\", x_opt)\n"
      ]
    },
    {
      "cell_type": "code",
      "source": [],
      "metadata": {
        "id": "07sxxZ1Mtgzf"
      },
      "execution_count": null,
      "outputs": []
    }
  ]
}